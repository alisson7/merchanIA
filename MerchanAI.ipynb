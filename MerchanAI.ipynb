{
  "nbformat": 4,
  "nbformat_minor": 0,
  "metadata": {
    "colab": {
      "provenance": [],
      "authorship_tag": "ABX9TyNNaJKdndP1ChpPO6R8Twvu",
      "include_colab_link": true
    },
    "kernelspec": {
      "name": "python3",
      "display_name": "Python 3"
    },
    "language_info": {
      "name": "python"
    }
  },
  "cells": [
    {
      "cell_type": "markdown",
      "metadata": {
        "id": "view-in-github",
        "colab_type": "text"
      },
      "source": [
        "<a href=\"https://colab.research.google.com/github/alisson7/merchanIA/blob/main/MerchanAI.ipynb\" target=\"_parent\"><img src=\"https://colab.research.google.com/assets/colab-badge.svg\" alt=\"Open In Colab\"/></a>"
      ]
    },
    {
      "cell_type": "markdown",
      "source": [
        "Projeto MerchanAI"
      ],
      "metadata": {
        "id": "eD23WgGMMEnj"
      }
    },
    {
      "cell_type": "markdown",
      "source": [
        "O MerchanAI é um assistente pessoal para os profissionais de merchandising em específico para os promotores(as) de venda. Utiliza o Gemini como IA generativa."
      ],
      "metadata": {
        "id": "lcfjRdagMJDv"
      }
    },
    {
      "cell_type": "markdown",
      "source": [
        "Segue códigos para apresentar como extrair conhecimento de arquivos PDF."
      ],
      "metadata": {
        "id": "oFkWhhO6Mu-v"
      }
    }
  ]
}